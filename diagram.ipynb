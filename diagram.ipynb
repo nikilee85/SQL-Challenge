{
 "cells": [
  {
   "cell_type": "markdown",
   "metadata": {},
   "source": [
    "Codebox from https://app.quickdatabasediagrams.com/#/"
   ]
  },
  {
   "cell_type": "code",
   "execution_count": null,
   "metadata": {},
   "outputs": [],
   "source": [
    "\"Departments CSV\"\n",
    "-\n",
    "Department varchar\n",
    "Dept_No str \n",
    "\n",
    "\"Titles CSV\"\n",
    "-\n",
    "Title_ID str fk >- \"Employees CSV\".Emp_title\n",
    "Title varchar\n",
    "\n",
    "\"Dept_Emp CSV\"\n",
    "-\n",
    "Emp_No int fk >- \"Employees CSV\".Emp_No\n",
    "Dept_No str fk >- \"Departments CSV\".Dept_No\n",
    "\n",
    "\"Dept_Mng CSV\"\n",
    "-\n",
    "Emp_No int fk >- \"Employees CSV\".Emp_No\n",
    "Dept_No str fk >- \"Departments CSV\".Dept_No\n",
    "\n",
    "\n",
    "\"Employees CSV\"\n",
    "-\n",
    "Emp_No int pk\n",
    "Emp_title str\n",
    "DOB int\n",
    "First_Name varchar\n",
    "Last_Namae varchar\n",
    "Sex varchar\n",
    "Hire_Date str\n",
    "\n",
    "\"Salaries CSV\"\n",
    "-\n",
    "Emp_No int fk >- \"Employees CSV\".Emp_No\n",
    "Salary int"
   ]
  }
 ],
 "metadata": {
  "language_info": {
   "name": "python"
  },
  "orig_nbformat": 4
 },
 "nbformat": 4,
 "nbformat_minor": 2
}
